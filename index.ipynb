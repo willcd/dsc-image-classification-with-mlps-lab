{
 "cells": [
  {
   "cell_type": "markdown",
   "metadata": {},
   "source": [
    "# Image Classification with MLPs - Lab"
   ]
  },
  {
   "cell_type": "markdown",
   "metadata": {},
   "source": [
    "## Introduction\n",
    "\n",
    "For the final lab in this section, we'll build a more advanced **_Multi-Layer Perceptron_** to solve image classification for a classic dataset, MNIST!  This dataset consists of thousands of labeled images of handwritten digits, and it has a special place in the history of Deep Learning. \n",
    "\n",
    "## Objectives \n",
    "\n",
    "- Build a multi-layer neural network image classifier using Keras "
   ]
  },
  {
   "cell_type": "markdown",
   "metadata": {},
   "source": [
    "## Packages\n",
    "\n",
    "First, let's import all the classes and packages you'll need for this lab."
   ]
  },
  {
   "cell_type": "code",
   "execution_count": 1,
   "metadata": {},
   "outputs": [],
   "source": [
    "import pandas as pd\n",
    "import numpy as np\n",
    "import matplotlib.pyplot as plt\n",
    "%matplotlib inline\n",
    "import keras\n",
    "from keras.models import Sequential\n",
    "from keras.layers import Dense\n",
    "from keras.datasets import mnist\n",
    "import os\n",
    "os.environ['KMP_DUPLICATE_LIB_OK']='True' #This prevents kernel shut down due to xgboost conflict"
   ]
  },
  {
   "cell_type": "markdown",
   "metadata": {},
   "source": [
    "##  Data "
   ]
  },
  {
   "cell_type": "markdown",
   "metadata": {},
   "source": [
    "Before we get into building the model, let's load our data and take a look at a sample image and label. \n",
    "\n",
    "The MNIST dataset is often used for benchmarking model performance in the world of AI/Deep Learning research. Because it's commonly used, Keras actually includes a helper function to load the data and labels from MNIST -- it even loads the data in a format already split into training and test sets!\n",
    "\n",
    "Run the cell below to load the MNIST dataset. Note that if this is the first time you are working with MNIST through Keras, this will take a few minutes while Keras downloads the data. "
   ]
  },
  {
   "cell_type": "code",
   "execution_count": 2,
   "metadata": {},
   "outputs": [
    {
     "name": "stdout",
     "output_type": "stream",
     "text": [
      "Downloading data from https://storage.googleapis.com/tensorflow/tf-keras-datasets/mnist.npz\n",
      "11493376/11490434 [==============================] - 1s 0us/step\n",
      "11501568/11490434 [==============================] - 1s 0us/step\n"
     ]
    }
   ],
   "source": [
    "(X_train, y_train), (X_test, y_test) = mnist.load_data()"
   ]
  },
  {
   "cell_type": "markdown",
   "metadata": {},
   "source": [
    "Great!  \n",
    "\n",
    "Now, let's quickly take a look at an image from the MNIST dataset -- we can visualize it using Matplotlib. Run the cell below to visualize the first image and its corresponding label. "
   ]
  },
  {
   "cell_type": "code",
   "execution_count": 3,
   "metadata": {},
   "outputs": [
    {
     "data": {
      "text/plain": [
       "<matplotlib.image.AxesImage at 0x2024db73160>"
      ]
     },
     "metadata": {},
     "output_type": "display_data"
    },
    {
     "name": "stdout",
     "output_type": "stream",
     "text": [
      "Label: 5\n"
     ]
    },
    {
     "data": {
      "image/png": "[encoded data removed]",
      "text/plain": [
       "<Figure size 432x288 with 1 Axes>"
      ]
     },
     "metadata": {
      "needs_background": "light"
     },
     "output_type": "display_data"
    }
   ],
   "source": [
    "sample_image = X_train[0]\n",
    "sample_label = y_train[0]\n",
    "display(plt.imshow(sample_image))\n",
    "print('Label: {}'.format(sample_label))"
   ]
  },
  {
   "cell_type": "markdown",
   "metadata": {},
   "source": [
    "Great! That was easy. Now, we'll see that preprocessing image data has a few extra steps in order to get it into a shape where an MLP can work with it. \n",
    "\n",
    "## Preprocessing Images For Use With MLPs\n",
    "\n",
    "By definition, images are matrices -- they are a spreadsheet of pixel values between 0 and 255. We can see this easily enough by just looking at a raw image:"
   ]
  },
  {
   "cell_type": "code",
   "execution_count": 4,
   "metadata": {},
   "outputs": [
    {
     "data": {
      "text/plain": [
       "array([[  0,   0,   0,   0,   0,   0,   0,   0,   0,   0,   0,   0,   0,\n",
       "          0,   0,   0,   0,   0,   0,   0,   0,   0,   0,   0,   0,   0,\n",
       "          0,   0],\n",
       "       [  0,   0,   0,   0,   0,   0,   0,   0,   0,   0,   0,   0,   0,\n",
       "          0,   0,   0,   0,   0,   0,   0,   0,   0,   0,   0,   0,   0,\n",
       "          0,   0],\n",
       "       [  0,   0,   0,   0,   0,   0,   0,   0,   0,   0,   0,   0,   0,\n",
       "          0,   0,   0,   0,   0,   0,   0,   0,   0,   0,   0,   0,   0,\n",
       "          0,   0],\n",
       "       [  0,   0,   0,   0,   0,   0,   0,   0,   0,   0,   0,   0,   0,\n",
       "          0,   0,   0,   0,   0,   0,   0,   0,   0,   0,   0,   0,   0,\n",
       "          0,   0],\n",
       "       [  0,   0,   0,   0,   0,   0,   0,   0,   0,   0,   0,   0,   0,\n",
       "          0,   0,   0,   0,   0,   0,   0,   0,   0,   0,   0,   0,   0,\n",
       "          0,   0],\n",
       "       [  0,   0,   0,   0,   0,   0,   0,   0,   0,   0,   0,   0,   3,\n",
       "         18,  18,  18, 126, 136, 175,  26, 166, 255, 247, 127,   0,   0,\n",
       "          0,   0],\n",
       "       [  0,   0,   0,   0,   0,   0,   0,   0,  30,  36,  94, 154, 170,\n",
       "        253, 253, 253, 253, 253, 225, 172, 253, 242, 195,  64,   0,   0,\n",
       "          0,   0],\n",
       "       [  0,   0,   0,   0,   0,   0,   0,  49, 238, 253, 253, 253, 253,\n",
       "        253, 253, 253, 253, 251,  93,  82,  82,  56,  39,   0,   0,   0,\n",
       "          0,   0],\n",
       "       [  0,   0,   0,   0,   0,   0,   0,  18, 219, 253, 253, 253, 253,\n",
       "        253, 198, 182, 247, 241,   0,   0,   0,   0,   0,   0,   0,   0,\n",
       "          0,   0],\n",
       "       [  0,   0,   0,   0,   0,   0,   0,   0,  80, 156, 107, 253, 253,\n",
       "        205,  11,   0,  43, 154,   0,   0,   0,   0,   0,   0,   0,   0,\n",
       "          0,   0],\n",
       "       [  0,   0,   0,   0,   0,   0,   0,   0,   0,  14,   1, 154, 253,\n",
       "         90,   0,   0,   0,   0,   0,   0,   0,   0,   0,   0,   0,   0,\n",
       "          0,   0],\n",
       "       [  0,   0,   0,   0,   0,   0,   0,   0,   0,   0,   0, 139, 253,\n",
       "        190,   2,   0,   0,   0,   0,   0,   0,   0,   0,   0,   0,   0,\n",
       "          0,   0],\n",
       "       [  0,   0,   0,   0,   0,   0,   0,   0,   0,   0,   0,  11, 190,\n",
       "        253,  70,   0,   0,   0,   0,   0,   0,   0,   0,   0,   0,   0,\n",
       "          0,   0],\n",
       "       [  0,   0,   0,   0,   0,   0,   0,   0,   0,   0,   0,   0,  35,\n",
       "        241, 225, 160, 108,   1,   0,   0,   0,   0,   0,   0,   0,   0,\n",
       "          0,   0],\n",
       "       [  0,   0,   0,   0,   0,   0,   0,   0,   0,   0,   0,   0,   0,\n",
       "         81, 240, 253, 253, 119,  25,   0,   0,   0,   0,   0,   0,   0,\n",
       "          0,   0],\n",
       "       [  0,   0,   0,   0,   0,   0,   0,   0,   0,   0,   0,   0,   0,\n",
       "          0,  45, 186, 253, 253, 150,  27,   0,   0,   0,   0,   0,   0,\n",
       "          0,   0],\n",
       "       [  0,   0,   0,   0,   0,   0,   0,   0,   0,   0,   0,   0,   0,\n",
       "          0,   0,  16,  93, 252, 253, 187,   0,   0,   0,   0,   0,   0,\n",
       "          0,   0],\n",
       "       [  0,   0,   0,   0,   0,   0,   0,   0,   0,   0,   0,   0,   0,\n",
       "          0,   0,   0,   0, 249, 253, 249,  64,   0,   0,   0,   0,   0,\n",
       "          0,   0],\n",
       "       [  0,   0,   0,   0,   0,   0,   0,   0,   0,   0,   0,   0,   0,\n",
       "          0,  46, 130, 183, 253, 253, 207,   2,   0,   0,   0,   0,   0,\n",
       "          0,   0],\n",
       "       [  0,   0,   0,   0,   0,   0,   0,   0,   0,   0,   0,   0,  39,\n",
       "        148, 229, 253, 253, 253, 250, 182,   0,   0,   0,   0,   0,   0,\n",
       "          0,   0],\n",
       "       [  0,   0,   0,   0,   0,   0,   0,   0,   0,   0,  24, 114, 221,\n",
       "        253, 253, 253, 253, 201,  78,   0,   0,   0,   0,   0,   0,   0,\n",
       "          0,   0],\n",
       "       [  0,   0,   0,   0,   0,   0,   0,   0,  23,  66, 213, 253, 253,\n",
       "        253, 253, 198,  81,   2,   0,   0,   0,   0,   0,   0,   0,   0,\n",
       "          0,   0],\n",
       "       [  0,   0,   0,   0,   0,   0,  18, 171, 219, 253, 253, 253, 253,\n",
       "        195,  80,   9,   0,   0,   0,   0,   0,   0,   0,   0,   0,   0,\n",
       "          0,   0],\n",
       "       [  0,   0,   0,   0,  55, 172, 226, 253, 253, 253, 253, 244, 133,\n",
       "         11,   0,   0,   0,   0,   0,   0,   0,   0,   0,   0,   0,   0,\n",
       "          0,   0],\n",
       "       [  0,   0,   0,   0, 136, 253, 253, 253, 212, 135, 132,  16,   0,\n",
       "          0,   0,   0,   0,   0,   0,   0,   0,   0,   0,   0,   0,   0,\n",
       "          0,   0],\n",
       "       [  0,   0,   0,   0,   0,   0,   0,   0,   0,   0,   0,   0,   0,\n",
       "          0,   0,   0,   0,   0,   0,   0,   0,   0,   0,   0,   0,   0,\n",
       "          0,   0],\n",
       "       [  0,   0,   0,   0,   0,   0,   0,   0,   0,   0,   0,   0,   0,\n",
       "          0,   0,   0,   0,   0,   0,   0,   0,   0,   0,   0,   0,   0,\n",
       "          0,   0],\n",
       "       [  0,   0,   0,   0,   0,   0,   0,   0,   0,   0,   0,   0,   0,\n",
       "          0,   0,   0,   0,   0,   0,   0,   0,   0,   0,   0,   0,   0,\n",
       "          0,   0]], dtype=uint8)"
      ]
     },
     "execution_count": 4,
     "metadata": {},
     "output_type": "execute_result"
    }
   ],
   "source": [
    "sample_image"
   ]
  },
  {
   "cell_type": "markdown",
   "metadata": {},
   "source": [
    "This is a problem in its current format, because MLPs take their input as vectors, not matrices or tensors. If all of the images were different sizes, then we would have a more significant problem on our hands, because we'd have challenges getting each image reshaped into a vector the exact same size as our input layer. However, this isn't a problem with MNIST, because all images are black white 28x28 pixel images. This means that we can just concatenate each row (or column) into a single 784-dimensional vector! Since each image will be concatenated in the exact same way, positional information is still preserved (e.g. the pixel value for the second pixel in the second row of an image will always be element number 29 in the vector). \n",
    "\n",
    "Let's get started. In the cell below, print the `.shape` of both `X_train` and `X_test`"
   ]
  },
  {
   "cell_type": "code",
   "execution_count": 5,
   "metadata": {},
   "outputs": [
    {
     "data": {
      "text/plain": [
       "(60000, 28, 28)"
      ]
     },
     "execution_count": 5,
     "metadata": {},
     "output_type": "execute_result"
    }
   ],
   "source": [
    "X_train.shape"
   ]
  },
  {
   "cell_type": "markdown",
   "metadata": {},
   "source": [
    "We can interpret these numbers as saying \"`X_train` consists of 60,000 images that are 28x28\". We'll need to reshape them from `(28, 28)`, a 28x28 matrix, to `(784,)`, a 784-element vector. However, we need to make sure that the first number in our reshape call for both `X_train` and `X_test` still correspond to the number of observations we have in each. \n",
    "\n",
    "In the cell below:\n",
    "\n",
    "* Use the `.reshape()` method to reshape `X_train`. The first parameter should be `60000`, and the second parameter should be `784` \n",
    "* Similarly, reshape `X_test` to `10000` and `784`  \n",
    "* Also, chain both `.reshape()` calls with an `.astype('float32')`, so that we convert our data from type `uint8` to `float32` "
   ]
  },
  {
   "cell_type": "code",
   "execution_count": 7,
   "metadata": {},
   "outputs": [],
   "source": [
    "X_train = X_train.reshape(60000, 784).astype('float32')\n",
    "X_test = X_test.reshape(10000, 784).astype('float32')"
   ]
  },
  {
   "cell_type": "markdown",
   "metadata": {},
   "source": [
    "Now, let's check the shape of our training and test data again to see if it worked. "
   ]
  },
  {
   "cell_type": "code",
   "execution_count": 8,
   "metadata": {},
   "outputs": [
    {
     "data": {
      "text/plain": [
       "((60000, 784), (10000, 784))"
      ]
     },
     "execution_count": 8,
     "metadata": {},
     "output_type": "execute_result"
    }
   ],
   "source": [
    "X_train.shape, X_test.shape"
   ]
  },
  {
   "cell_type": "markdown",
   "metadata": {},
   "source": [
    "Great! Now, we just need to normalize our data!\n",
    "\n",
    "## Normalizing Image Data\n",
    "\n",
    "Since all pixel values will always be between 0 and 255, we can just scale our data by dividing every element by 255! Run the cell below to do so now. "
   ]
  },
  {
   "cell_type": "code",
   "execution_count": 9,
   "metadata": {},
   "outputs": [],
   "source": [
    "X_train /= 255.\n",
    "X_test /= 255."
   ]
  },
  {
   "cell_type": "markdown",
   "metadata": {},
   "source": [
    "Great! We've now finished preprocessing our image data. However, we still need to deal with our labels. \n",
    "\n",
    "## Preprocessing our Labels\n",
    "\n",
    "Let's take a quick look at the first 10 labels in our training data:"
   ]
  },
  {
   "cell_type": "code",
   "execution_count": 10,
   "metadata": {},
   "outputs": [
    {
     "data": {
      "text/plain": [
       "array([5, 0, 4, 1, 9, 2, 1, 3, 1, 4], dtype=uint8)"
      ]
     },
     "execution_count": 10,
     "metadata": {},
     "output_type": "execute_result"
    }
   ],
   "source": [
    "y_train[:10]"
   ]
  },
  {
   "cell_type": "markdown",
   "metadata": {},
   "source": [
    "As we can see, the labels for each digit image in the training set are stored as the corresponding integer value -- if the image is of a 5, then the corresponding label will be `5`. This means that this is a **_Multiclass Classification_** problem, which means that we need to **_One-Hot Encode_** our labels before we can use them for training. \n",
    "\n",
    "Luckily, Keras provides a really easy utility function to handle this for us. \n",
    "\n",
    "In the cell below: \n",
    "\n",
    "* Use the function `to_categorical()` to one-hot encode our labels. This function can be found in the `keras.utils` sub-module. Pass in the following parameters:\n",
    "    * The object we want to one-hot encode, which will be `y_train`/`y_test` \n",
    "    * The number of classes contained in the labels, `10` "
   ]
  },
  {
   "cell_type": "code",
   "execution_count": 12,
   "metadata": {},
   "outputs": [],
   "source": [
    "y_train = keras.utils.all_utils.to_categorical(y_train, 10)\n",
    "y_test = keras.utils.all_utils.to_categorical(y_test, 10)"
   ]
  },
  {
   "cell_type": "markdown",
   "metadata": {},
   "source": [
    "Great. Now, let's examine the label for the first data point, which we saw was `5` before. "
   ]
  },
  {
   "cell_type": "code",
   "execution_count": 13,
   "metadata": {},
   "outputs": [
    {
     "data": {
      "text/plain": [
       "array([0., 0., 0., 0., 0., 1., 0., 0., 0., 0.], dtype=float32)"
      ]
     },
     "execution_count": 13,
     "metadata": {},
     "output_type": "execute_result"
    }
   ],
   "source": [
    "y_train[0]"
   ]
  },
  {
   "cell_type": "markdown",
   "metadata": {},
   "source": [
    "Perfect! As we can see, the fifth index is set to `1`, while everything else is set to `0`. That was easy!  Now, let's get to the fun part -- building our model!\n",
    "\n",
    "## Building our Model\n",
    "\n",
    "For the remainder of this lab, we won't hold your hand as much -- flex your newfound Keras muscles and build an MLP with the following specifications:\n",
    "\n",
    "* A `Dense` hidden layer with `64` neurons, and a `'tanh'` activation function. Also, since this is the first hidden layer, be sure to pass in `input_shape=(784,)` in order to create a correctly-sized input layer!\n",
    "* Since this is a multiclass classification problem, our output layer will need to be a `Dense` layer where the number of neurons is the same as the number of classes in the labels. Also, be sure to set the activation function to `'softmax'` "
   ]
  },
  {
   "cell_type": "code",
   "execution_count": 20,
   "metadata": {},
   "outputs": [],
   "source": [
    "model_1  = Sequential()\n",
    "model_1.add(Dense(64, activation='tanh', input_shape=(784,)))\n",
    "model_1.add(Dense(10, activation='softmax'))"
   ]
  },
  {
   "cell_type": "markdown",
   "metadata": {},
   "source": [
    "Now, compile your model with the following parameters:\n",
    "\n",
    "* `loss='categorical_crossentropy'`\n",
    "* `optimizer='sgd'`\n",
    "* `metrics = ['acc']`"
   ]
  },
  {
   "cell_type": "code",
   "execution_count": 21,
   "metadata": {},
   "outputs": [],
   "source": [
    "model_1.compile(loss='categorical_crossentropy', optimizer='sgd', metrics=['acc'])"
   ]
  },
  {
   "cell_type": "markdown",
   "metadata": {},
   "source": [
    "Let's quickly inspect the shape of our model before training it and see how many training parameters we have. In the cell below, call the model's `.summary()` method. "
   ]
  },
  {
   "cell_type": "code",
   "execution_count": 22,
   "metadata": {},
   "outputs": [
    {
     "name": "stdout",
     "output_type": "stream",
     "text": [
      "Model: \"sequential_1\"\n",
      "_________________________________________________________________\n",
      " Layer (type)                Output Shape              Param #   \n",
      "=================================================================\n",
      " dense_2 (Dense)             (None, 64)                50240     \n",
      "                                                                 \n",
      " dense_3 (Dense)             (None, 10)                650       \n",
      "                                                                 \n",
      "=================================================================\n",
      "Total params: 50,890\n",
      "Trainable params: 50,890\n",
      "Non-trainable params: 0\n",
      "_________________________________________________________________\n"
     ]
    }
   ],
   "source": [
    "model_1.summary()"
   ]
  },
  {
   "cell_type": "markdown",
   "metadata": {},
   "source": [
    "50,890 trainable parameters! Note that while this may seem large, deep neural networks in production may have hundreds or thousands of layers and many millions of trainable parameters!\n",
    "\n",
    "Let's get on to training. In the cell below, fit the model. Use the following parameters:\n",
    "\n",
    "* Our training data and labels\n",
    "* `epochs=5`\n",
    "* `batch_size=64`\n",
    "* `validation_data=(X_test, y_test)`"
   ]
  },
  {
   "cell_type": "code",
   "execution_count": 23,
   "metadata": {},
   "outputs": [
    {
     "name": "stdout",
     "output_type": "stream",
     "text": [
      "Epoch 1/5\n",
      "938/938 [==============================] - 1s 1ms/step - loss: 0.8754 - acc: 0.7872 - val_loss: 0.5039 - val_acc: 0.8773\n",
      "Epoch 2/5\n",
      "938/938 [==============================] - 1s 1ms/step - loss: 0.4551 - acc: 0.8833 - val_loss: 0.3910 - val_acc: 0.8988\n",
      "Epoch 3/5\n",
      "938/938 [==============================] - 2s 2ms/step - loss: 0.3825 - acc: 0.8963 - val_loss: 0.3459 - val_acc: 0.9066\n",
      "Epoch 4/5\n",
      "938/938 [==============================] - 1s 1ms/step - loss: 0.3465 - acc: 0.9042 - val_loss: 0.3194 - val_acc: 0.9128\n",
      "Epoch 5/5\n",
      "938/938 [==============================] - 1s 1ms/step - loss: 0.3231 - acc: 0.9095 - val_loss: 0.3017 - val_acc: 0.9175\n"
     ]
    }
   ],
   "source": [
    "results_1 = model_1.fit(X_train, y_train, epochs=5, batch_size=64, validation_data=(X_test, y_test))"
   ]
  },
  {
   "cell_type": "markdown",
   "metadata": {},
   "source": [
    "## Visualizing our Loss and Accuracy Curves\n",
    "\n",
    "Now, let's inspect the model's performance and see if we detect any overfitting or other issues. In the cell below, create two plots:\n",
    "\n",
    "* The `loss` and `val_loss` over the training epochs\n",
    "* The `acc` and `val_acc` over the training epochs\n",
    "\n",
    "**_HINT:_** Consider copying over the visualization function from the previous lab in order to save time!"
   ]
  },
  {
   "cell_type": "code",
   "execution_count": 36,
   "metadata": {},
   "outputs": [],
   "source": [
    "def visualize_training_results(results):\n",
    "    hist = results.history\n",
    "    plt.figure(figsize=(15,5))\n",
    "    plt.plot(hist['val_loss'])\n",
    "    plt.plot(hist['loss'])\n",
    "    plt.legend(['val_loss','loss'])\n",
    "    plt.title('Loss')\n",
    "    plt.xlabel('Epochs')\n",
    "    plt.ylabel('Loss')\n",
    "    plt.show()\n",
    "    \n",
    "    plt.figure(figsize=(15,5))\n",
    "    plt.plot(hist['val_acc'])\n",
    "    plt.plot(hist['acc'])\n",
    "    plt.legend(['val_acc','acc'])\n",
    "    plt.title('Accuracy')\n",
    "    plt.xlabel('Epochs')\n",
    "    plt.ylabel('Accuracy')\n",
    "    plt.show()"
   ]
  },
  {
   "cell_type": "code",
   "execution_count": 37,
   "metadata": {},
   "outputs": [
    {
     "data": {
      "image/png": "[encoded data removed]",
      "text/plain": [
       "<Figure size 1080x360 with 1 Axes>"
      ]
     },
     "metadata": {
      "needs_background": "light"
     },
     "output_type": "display_data"
    },
    {
     "data": {
      "image/png": "[encoded data removed]",
      "text/plain": [
       "<Figure size 1080x360 with 1 Axes>"
      ]
     },
     "metadata": {
      "needs_background": "light"
     },
     "output_type": "display_data"
    }
   ],
   "source": [
    "visualize_training_results(results_1)"
   ]
  },
  {
   "cell_type": "markdown",
   "metadata": {},
   "source": [
    "Pretty good! Note that since our validation scores are currently higher than our training scores, its extremely unlikely that our model is overfitting to the training data. This is a good sign -- that means that we can probably trust the results that our model is ~91.7% accurate at classifying handwritten digits!\n",
    "\n",
    "## Building a Bigger Model\n",
    "\n",
    "Now, let's add another hidden layer and see how this changes things. In the cells below, create a second model. This model should have the following architecture:\n",
    "\n",
    "* Input layer and first hidden layer same as `model_1`\n",
    "* Another `Dense` hidden layer, this time with `32` neurons and a `'tanh'` activation function\n",
    "* An output layer same as `model_1` "
   ]
  },
  {
   "cell_type": "code",
   "execution_count": 42,
   "metadata": {},
   "outputs": [],
   "source": [
    "model_2  = Sequential()\n",
    "model_2.add(Dense(64, activation='tanh', input_shape=(784,)))\n",
    "model_2.add(Dense(32, activation='tanh'))\n",
    "model_2.add(Dense(10, activation='softmax'))"
   ]
  },
  {
   "cell_type": "markdown",
   "metadata": {},
   "source": [
    "Let's quickly inspect the `.summary()` of the model again, to see how many new trainable parameters this extra hidden layer has introduced."
   ]
  },
  {
   "cell_type": "code",
   "execution_count": 43,
   "metadata": {},
   "outputs": [
    {
     "name": "stdout",
     "output_type": "stream",
     "text": [
      "Model: \"sequential_5\"\n",
      "_________________________________________________________________\n",
      " Layer (type)                Output Shape              Param #   \n",
      "=================================================================\n",
      " dense_13 (Dense)            (None, 64)                50240     \n",
      "                                                                 \n",
      " dense_14 (Dense)            (None, 32)                2080      \n",
      "                                                                 \n",
      " dense_15 (Dense)            (None, 10)                330       \n",
      "                                                                 \n",
      "=================================================================\n",
      "Total params: 52,650\n",
      "Trainable params: 52,650\n",
      "Non-trainable params: 0\n",
      "_________________________________________________________________\n"
     ]
    }
   ],
   "source": [
    "model_2.summary()"
   ]
  },
  {
   "cell_type": "markdown",
   "metadata": {},
   "source": [
    "This model isn't much bigger, but the layout means that the 2080 parameters in the new hidden layer will be focused on higher layers of abstraction than the first hidden layer. Let's see how it compares after training. \n",
    "\n",
    "In the cells below, compile and fit the model using the same parameters you did for `model_1`."
   ]
  },
  {
   "cell_type": "code",
   "execution_count": 44,
   "metadata": {},
   "outputs": [],
   "source": [
    "model_2.compile(loss='categorical_crossentropy', optimizer='sgd', metrics=['acc'])"
   ]
  },
  {
   "cell_type": "code",
   "execution_count": 45,
   "metadata": {
    "scrolled": true
   },
   "outputs": [
    {
     "name": "stdout",
     "output_type": "stream",
     "text": [
      "Epoch 1/100\n",
      "938/938 [==============================] - 2s 1ms/step - loss: 0.9032 - acc: 0.7843 - val_loss: 0.5087 - val_acc: 0.8827\n",
      "Epoch 2/100\n",
      "938/938 [==============================] - 2s 2ms/step - loss: 0.4442 - acc: 0.8886 - val_loss: 0.3756 - val_acc: 0.9040\n",
      "Epoch 3/100\n",
      "938/938 [==============================] - 1s 2ms/step - loss: 0.3610 - acc: 0.9026 - val_loss: 0.3240 - val_acc: 0.9135\n",
      "Epoch 4/100\n",
      "938/938 [==============================] - 2s 2ms/step - loss: 0.3205 - acc: 0.9112 - val_loss: 0.2951 - val_acc: 0.9186\n",
      "Epoch 5/100\n",
      "938/938 [==============================] - 1s 2ms/step - loss: 0.2941 - acc: 0.9172 - val_loss: 0.2748 - val_acc: 0.9233\n",
      "Epoch 6/100\n",
      "938/938 [==============================] - 1s 1ms/step - loss: 0.2739 - acc: 0.9225 - val_loss: 0.2565 - val_acc: 0.9266\n",
      "Epoch 7/100\n",
      "938/938 [==============================] - 2s 2ms/step - loss: 0.2573 - acc: 0.9264 - val_loss: 0.2434 - val_acc: 0.9297\n",
      "Epoch 8/100\n",
      "938/938 [==============================] - 1s 1ms/step - loss: 0.2429 - acc: 0.9309 - val_loss: 0.2310 - val_acc: 0.9330\n",
      "Epoch 9/100\n",
      "938/938 [==============================] - 2s 2ms/step - loss: 0.2304 - acc: 0.9342 - val_loss: 0.2195 - val_acc: 0.9367\n",
      "Epoch 10/100\n",
      "938/938 [==============================] - 1s 1ms/step - loss: 0.2189 - acc: 0.9381 - val_loss: 0.2111 - val_acc: 0.9386\n",
      "Epoch 11/100\n",
      "938/938 [==============================] - 2s 2ms/step - loss: 0.2086 - acc: 0.9408 - val_loss: 0.2007 - val_acc: 0.9417\n",
      "Epoch 12/100\n",
      "938/938 [==============================] - 1s 1ms/step - loss: 0.1992 - acc: 0.9435 - val_loss: 0.1932 - val_acc: 0.9430\n",
      "Epoch 13/100\n",
      "938/938 [==============================] - 2s 2ms/step - loss: 0.1906 - acc: 0.9468 - val_loss: 0.1862 - val_acc: 0.9451\n",
      "Epoch 14/100\n",
      "938/938 [==============================] - 1s 1ms/step - loss: 0.1825 - acc: 0.9486 - val_loss: 0.1797 - val_acc: 0.9471\n",
      "Epoch 15/100\n",
      "938/938 [==============================] - 2s 2ms/step - loss: 0.1753 - acc: 0.9507 - val_loss: 0.1731 - val_acc: 0.9489\n",
      "Epoch 16/100\n",
      "938/938 [==============================] - 1s 1ms/step - loss: 0.1688 - acc: 0.9526 - val_loss: 0.1679 - val_acc: 0.9502\n",
      "Epoch 17/100\n",
      "938/938 [==============================] - 2s 2ms/step - loss: 0.1624 - acc: 0.9544 - val_loss: 0.1625 - val_acc: 0.9525\n",
      "Epoch 18/100\n",
      "938/938 [==============================] - 1s 1ms/step - loss: 0.1568 - acc: 0.9563 - val_loss: 0.1577 - val_acc: 0.9531\n",
      "Epoch 19/100\n",
      "938/938 [==============================] - 2s 2ms/step - loss: 0.1514 - acc: 0.9577 - val_loss: 0.1545 - val_acc: 0.9547\n",
      "Epoch 20/100\n",
      "938/938 [==============================] - 1s 1ms/step - loss: 0.1464 - acc: 0.9592 - val_loss: 0.1506 - val_acc: 0.9566\n",
      "Epoch 21/100\n",
      "938/938 [==============================] - 2s 2ms/step - loss: 0.1417 - acc: 0.9607 - val_loss: 0.1462 - val_acc: 0.9571\n",
      "Epoch 22/100\n",
      "938/938 [==============================] - 1s 1ms/step - loss: 0.1373 - acc: 0.9617 - val_loss: 0.1431 - val_acc: 0.9572\n",
      "Epoch 23/100\n",
      "938/938 [==============================] - 2s 2ms/step - loss: 0.1330 - acc: 0.9632 - val_loss: 0.1401 - val_acc: 0.9593\n",
      "Epoch 24/100\n",
      "938/938 [==============================] - 1s 1ms/step - loss: 0.1291 - acc: 0.9641 - val_loss: 0.1365 - val_acc: 0.9595\n",
      "Epoch 25/100\n",
      "938/938 [==============================] - 2s 2ms/step - loss: 0.1255 - acc: 0.9650 - val_loss: 0.1346 - val_acc: 0.9599\n",
      "Epoch 26/100\n",
      "938/938 [==============================] - 1s 1ms/step - loss: 0.1220 - acc: 0.9659 - val_loss: 0.1313 - val_acc: 0.9599\n",
      "Epoch 27/100\n",
      "938/938 [==============================] - 2s 2ms/step - loss: 0.1185 - acc: 0.9674 - val_loss: 0.1299 - val_acc: 0.9617\n",
      "Epoch 28/100\n",
      "938/938 [==============================] - 1s 1ms/step - loss: 0.1153 - acc: 0.9678 - val_loss: 0.1270 - val_acc: 0.9615\n",
      "Epoch 29/100\n",
      "938/938 [==============================] - 2s 2ms/step - loss: 0.1125 - acc: 0.9687 - val_loss: 0.1248 - val_acc: 0.9625\n",
      "Epoch 30/100\n",
      "938/938 [==============================] - 1s 1ms/step - loss: 0.1094 - acc: 0.9698 - val_loss: 0.1232 - val_acc: 0.9627\n",
      "Epoch 31/100\n",
      "938/938 [==============================] - 2s 2ms/step - loss: 0.1069 - acc: 0.9700 - val_loss: 0.1208 - val_acc: 0.9641\n",
      "Epoch 32/100\n",
      "938/938 [==============================] - 1s 1ms/step - loss: 0.1041 - acc: 0.9710 - val_loss: 0.1188 - val_acc: 0.9648\n",
      "Epoch 33/100\n",
      "938/938 [==============================] - 1s 1ms/step - loss: 0.1017 - acc: 0.9716 - val_loss: 0.1169 - val_acc: 0.9652\n",
      "Epoch 34/100\n",
      "938/938 [==============================] - 1s 1ms/step - loss: 0.0993 - acc: 0.9728 - val_loss: 0.1150 - val_acc: 0.9653\n",
      "Epoch 35/100\n",
      "938/938 [==============================] - 1s 1ms/step - loss: 0.0970 - acc: 0.9731 - val_loss: 0.1137 - val_acc: 0.9656\n",
      "Epoch 36/100\n",
      "938/938 [==============================] - 2s 2ms/step - loss: 0.0948 - acc: 0.9739 - val_loss: 0.1123 - val_acc: 0.9658\n",
      "Epoch 37/100\n",
      "938/938 [==============================] - 2s 2ms/step - loss: 0.0928 - acc: 0.9741 - val_loss: 0.1103 - val_acc: 0.9670\n",
      "Epoch 38/100\n",
      "938/938 [==============================] - 1s 2ms/step - loss: 0.0907 - acc: 0.9748 - val_loss: 0.1099 - val_acc: 0.9671\n",
      "Epoch 39/100\n",
      "938/938 [==============================] - 1s 2ms/step - loss: 0.0888 - acc: 0.9753 - val_loss: 0.1085 - val_acc: 0.9664\n",
      "Epoch 40/100\n",
      "938/938 [==============================] - 1s 1ms/step - loss: 0.0868 - acc: 0.9762 - val_loss: 0.1082 - val_acc: 0.9669\n",
      "Epoch 41/100\n",
      "938/938 [==============================] - 1s 1ms/step - loss: 0.0852 - acc: 0.9765 - val_loss: 0.1075 - val_acc: 0.9665\n",
      "Epoch 42/100\n",
      "938/938 [==============================] - 1s 1ms/step - loss: 0.0834 - acc: 0.9771 - val_loss: 0.1054 - val_acc: 0.9674\n",
      "Epoch 43/100\n",
      "938/938 [==============================] - 1s 1ms/step - loss: 0.0817 - acc: 0.9775 - val_loss: 0.1050 - val_acc: 0.9681\n",
      "Epoch 44/100\n",
      "938/938 [==============================] - 1s 1ms/step - loss: 0.0801 - acc: 0.9778 - val_loss: 0.1034 - val_acc: 0.9679\n",
      "Epoch 45/100\n",
      "938/938 [==============================] - 1s 1ms/step - loss: 0.0786 - acc: 0.9782 - val_loss: 0.1023 - val_acc: 0.9688\n",
      "Epoch 46/100\n",
      "938/938 [==============================] - 1s 2ms/step - loss: 0.0770 - acc: 0.9791 - val_loss: 0.1023 - val_acc: 0.9686\n",
      "Epoch 47/100\n",
      "938/938 [==============================] - 1s 1ms/step - loss: 0.0756 - acc: 0.9796 - val_loss: 0.1016 - val_acc: 0.9688\n",
      "Epoch 48/100\n",
      "938/938 [==============================] - 1s 1ms/step - loss: 0.0741 - acc: 0.9800 - val_loss: 0.0998 - val_acc: 0.9698\n",
      "Epoch 49/100\n",
      "938/938 [==============================] - 1s 1ms/step - loss: 0.0729 - acc: 0.9802 - val_loss: 0.0994 - val_acc: 0.9698\n",
      "Epoch 50/100\n",
      "938/938 [==============================] - 1s 1ms/step - loss: 0.0715 - acc: 0.9805 - val_loss: 0.0987 - val_acc: 0.9696\n",
      "Epoch 51/100\n",
      "938/938 [==============================] - 1s 1ms/step - loss: 0.0703 - acc: 0.9810 - val_loss: 0.0982 - val_acc: 0.9705\n",
      "Epoch 52/100\n",
      "938/938 [==============================] - 1s 1ms/step - loss: 0.0690 - acc: 0.9813 - val_loss: 0.0971 - val_acc: 0.9703\n",
      "Epoch 53/100\n",
      "938/938 [==============================] - 1s 1ms/step - loss: 0.0678 - acc: 0.9816 - val_loss: 0.0969 - val_acc: 0.9702\n",
      "Epoch 54/100\n",
      "938/938 [==============================] - 1s 1ms/step - loss: 0.0666 - acc: 0.9821 - val_loss: 0.0963 - val_acc: 0.9713\n",
      "Epoch 55/100\n",
      "938/938 [==============================] - 1s 1ms/step - loss: 0.0655 - acc: 0.9825 - val_loss: 0.0957 - val_acc: 0.9713\n",
      "Epoch 56/100\n",
      "938/938 [==============================] - 1s 1ms/step - loss: 0.0643 - acc: 0.9830 - val_loss: 0.0961 - val_acc: 0.9696\n",
      "Epoch 57/100\n",
      "938/938 [==============================] - 1s 1ms/step - loss: 0.0632 - acc: 0.9828 - val_loss: 0.0942 - val_acc: 0.9709\n",
      "Epoch 58/100\n",
      "938/938 [==============================] - 1s 1ms/step - loss: 0.0621 - acc: 0.9835 - val_loss: 0.0936 - val_acc: 0.9711\n",
      "Epoch 59/100\n",
      "938/938 [==============================] - 1s 1ms/step - loss: 0.0611 - acc: 0.9835 - val_loss: 0.0931 - val_acc: 0.9712\n",
      "Epoch 60/100\n",
      "938/938 [==============================] - 1s 1ms/step - loss: 0.0602 - acc: 0.9839 - val_loss: 0.0924 - val_acc: 0.9720\n",
      "Epoch 61/100\n",
      "938/938 [==============================] - 1s 1ms/step - loss: 0.0591 - acc: 0.9845 - val_loss: 0.0928 - val_acc: 0.9719\n",
      "Epoch 62/100\n"
     ]
    },
    {
     "name": "stdout",
     "output_type": "stream",
     "text": [
      "938/938 [==============================] - 1s 1ms/step - loss: 0.0582 - acc: 0.9844 - val_loss: 0.0930 - val_acc: 0.9715\n",
      "Epoch 63/100\n",
      "938/938 [==============================] - 1s 1ms/step - loss: 0.0572 - acc: 0.9851 - val_loss: 0.0922 - val_acc: 0.9715\n",
      "Epoch 64/100\n",
      "938/938 [==============================] - 1s 1ms/step - loss: 0.0563 - acc: 0.9849 - val_loss: 0.0927 - val_acc: 0.9709\n",
      "Epoch 65/100\n",
      "938/938 [==============================] - 1s 2ms/step - loss: 0.0554 - acc: 0.9856 - val_loss: 0.0917 - val_acc: 0.9717\n",
      "Epoch 66/100\n",
      "938/938 [==============================] - 1s 2ms/step - loss: 0.0544 - acc: 0.9857 - val_loss: 0.0899 - val_acc: 0.9724\n",
      "Epoch 67/100\n",
      "938/938 [==============================] - 1s 1ms/step - loss: 0.0538 - acc: 0.9860 - val_loss: 0.0907 - val_acc: 0.9719\n",
      "Epoch 68/100\n",
      "938/938 [==============================] - 1s 1ms/step - loss: 0.0529 - acc: 0.9865 - val_loss: 0.0913 - val_acc: 0.9714\n",
      "Epoch 69/100\n",
      "938/938 [==============================] - 1s 1ms/step - loss: 0.0521 - acc: 0.9868 - val_loss: 0.0903 - val_acc: 0.9725\n",
      "Epoch 70/100\n",
      "938/938 [==============================] - 1s 1ms/step - loss: 0.0513 - acc: 0.9865 - val_loss: 0.0898 - val_acc: 0.9722\n",
      "Epoch 71/100\n",
      "938/938 [==============================] - 1s 1ms/step - loss: 0.0505 - acc: 0.9869 - val_loss: 0.0897 - val_acc: 0.9718\n",
      "Epoch 72/100\n",
      "938/938 [==============================] - 1s 1ms/step - loss: 0.0498 - acc: 0.9872 - val_loss: 0.0901 - val_acc: 0.9719\n",
      "Epoch 73/100\n",
      "938/938 [==============================] - 1s 1ms/step - loss: 0.0490 - acc: 0.9874 - val_loss: 0.0895 - val_acc: 0.9728\n",
      "Epoch 74/100\n",
      "938/938 [==============================] - 1s 1ms/step - loss: 0.0483 - acc: 0.9876 - val_loss: 0.0888 - val_acc: 0.9729\n",
      "Epoch 75/100\n",
      "938/938 [==============================] - 1s 1ms/step - loss: 0.0476 - acc: 0.9881 - val_loss: 0.0890 - val_acc: 0.9736\n",
      "Epoch 76/100\n",
      "938/938 [==============================] - 1s 1ms/step - loss: 0.0468 - acc: 0.9883 - val_loss: 0.0888 - val_acc: 0.9730\n",
      "Epoch 77/100\n",
      "938/938 [==============================] - 1s 1ms/step - loss: 0.0462 - acc: 0.9884 - val_loss: 0.0886 - val_acc: 0.9739\n",
      "Epoch 78/100\n",
      "938/938 [==============================] - 1s 1ms/step - loss: 0.0455 - acc: 0.9887 - val_loss: 0.0871 - val_acc: 0.9731\n",
      "Epoch 79/100\n",
      "938/938 [==============================] - 1s 1ms/step - loss: 0.0449 - acc: 0.9889 - val_loss: 0.0880 - val_acc: 0.9737\n",
      "Epoch 80/100\n",
      "938/938 [==============================] - 1s 1ms/step - loss: 0.0442 - acc: 0.9891 - val_loss: 0.0877 - val_acc: 0.9733\n",
      "Epoch 81/100\n",
      "938/938 [==============================] - 1s 1ms/step - loss: 0.0436 - acc: 0.9893 - val_loss: 0.0874 - val_acc: 0.9728\n",
      "Epoch 82/100\n",
      "938/938 [==============================] - 1s 1ms/step - loss: 0.0430 - acc: 0.9896 - val_loss: 0.0871 - val_acc: 0.9734\n",
      "Epoch 83/100\n",
      "938/938 [==============================] - 1s 1ms/step - loss: 0.0424 - acc: 0.9897 - val_loss: 0.0874 - val_acc: 0.9729\n",
      "Epoch 84/100\n",
      "938/938 [==============================] - 2s 2ms/step - loss: 0.0417 - acc: 0.9900 - val_loss: 0.0871 - val_acc: 0.9738\n",
      "Epoch 85/100\n",
      "938/938 [==============================] - 1s 2ms/step - loss: 0.0412 - acc: 0.9901 - val_loss: 0.0870 - val_acc: 0.9731\n",
      "Epoch 86/100\n",
      "938/938 [==============================] - 1s 1ms/step - loss: 0.0406 - acc: 0.9906 - val_loss: 0.0872 - val_acc: 0.9738\n",
      "Epoch 87/100\n",
      "938/938 [==============================] - 1s 1ms/step - loss: 0.0400 - acc: 0.9905 - val_loss: 0.0874 - val_acc: 0.9731\n",
      "Epoch 88/100\n",
      "938/938 [==============================] - 1s 1ms/step - loss: 0.0394 - acc: 0.9908 - val_loss: 0.0874 - val_acc: 0.9733\n",
      "Epoch 89/100\n",
      "938/938 [==============================] - 1s 1ms/step - loss: 0.0389 - acc: 0.9911 - val_loss: 0.0865 - val_acc: 0.9736\n",
      "Epoch 90/100\n",
      "938/938 [==============================] - 1s 1ms/step - loss: 0.0383 - acc: 0.9911 - val_loss: 0.0870 - val_acc: 0.9735\n",
      "Epoch 91/100\n",
      "938/938 [==============================] - 1s 1ms/step - loss: 0.0379 - acc: 0.9911 - val_loss: 0.0873 - val_acc: 0.9735\n",
      "Epoch 92/100\n",
      "938/938 [==============================] - 1s 1ms/step - loss: 0.0374 - acc: 0.9914 - val_loss: 0.0877 - val_acc: 0.9728\n",
      "Epoch 93/100\n",
      "938/938 [==============================] - 1s 1ms/step - loss: 0.0368 - acc: 0.9917 - val_loss: 0.0867 - val_acc: 0.9732\n",
      "Epoch 94/100\n",
      "938/938 [==============================] - 1s 1ms/step - loss: 0.0363 - acc: 0.9917 - val_loss: 0.0875 - val_acc: 0.9729\n",
      "Epoch 95/100\n",
      "938/938 [==============================] - 1s 1ms/step - loss: 0.0359 - acc: 0.9920 - val_loss: 0.0866 - val_acc: 0.9733\n",
      "Epoch 96/100\n",
      "938/938 [==============================] - 1s 1ms/step - loss: 0.0353 - acc: 0.9923 - val_loss: 0.0874 - val_acc: 0.9737\n",
      "Epoch 97/100\n",
      "938/938 [==============================] - 1s 1ms/step - loss: 0.0348 - acc: 0.9923 - val_loss: 0.0870 - val_acc: 0.9734\n",
      "Epoch 98/100\n",
      "938/938 [==============================] - 1s 1ms/step - loss: 0.0343 - acc: 0.9927 - val_loss: 0.0863 - val_acc: 0.9737\n",
      "Epoch 99/100\n",
      "938/938 [==============================] - 1s 2ms/step - loss: 0.0339 - acc: 0.9928 - val_loss: 0.0867 - val_acc: 0.9739\n",
      "Epoch 100/100\n",
      "938/938 [==============================] - 2s 2ms/step - loss: 0.0335 - acc: 0.9930 - val_loss: 0.0867 - val_acc: 0.9735\n"
     ]
    }
   ],
   "source": [
    "results_2 = model_2.fit(X_train, y_train, epochs=100, batch_size=64, validation_data=(X_test, y_test))"
   ]
  },
  {
   "cell_type": "markdown",
   "metadata": {},
   "source": [
    "Now, visualize the plots again. "
   ]
  },
  {
   "cell_type": "code",
   "execution_count": 46,
   "metadata": {},
   "outputs": [
    {
     "data": {
      "image/png": "[encoded data removed]",
      "text/plain": [
       "<Figure size 1080x360 with 1 Axes>"
      ]
     },
     "metadata": {
      "needs_background": "light"
     },
     "output_type": "display_data"
    },
    {
     "data": {
      "image/png": "[encoded data removed]",
      "text/plain": [
       "<Figure size 1080x360 with 1 Axes>"
      ]
     },
     "metadata": {
      "needs_background": "light"
     },
     "output_type": "display_data"
    }
   ],
   "source": [
    "visualize_training_results(results_2)"
   ]
  },
  {
   "cell_type": "markdown",
   "metadata": {},
   "source": [
    "Slightly better validation accuracy, with no evidence of overfitting -- great! If you run the model for more epochs, you'll see the model's performance continues to improve until the validation metrics plateau and the model begins to overfit to training data. "
   ]
  },
  {
   "cell_type": "markdown",
   "metadata": {},
   "source": [
    "## A Bit of Tuning\n",
    "\n",
    "As a final exercise, let's see what happens to the model's performance if we switch activation functions from `'tanh'` to `'relu'`. In the cell below, recreate  `model_2`, but replace all `'tanh'` activations with `'relu'`. Then, compile, train, and plot the results using the same parameters as the other two. "
   ]
  },
  {
   "cell_type": "code",
   "execution_count": 57,
   "metadata": {},
   "outputs": [],
   "source": [
    "model_3 = Sequential()\n",
    "model_3.add(Dense(64, activation='relu', input_shape=(784,)))\n",
    "model_3.add(Dense(32, activation='relu'))\n",
    "model_3.add(Dense(10, activation='softmax'))"
   ]
  },
  {
   "cell_type": "code",
   "execution_count": 58,
   "metadata": {},
   "outputs": [
    {
     "name": "stdout",
     "output_type": "stream",
     "text": [
      "Model: \"sequential_8\"\n",
      "_________________________________________________________________\n",
      " Layer (type)                Output Shape              Param #   \n",
      "=================================================================\n",
      " dense_22 (Dense)            (None, 64)                50240     \n",
      "                                                                 \n",
      " dense_23 (Dense)            (None, 32)                2080      \n",
      "                                                                 \n",
      " dense_24 (Dense)            (None, 10)                330       \n",
      "                                                                 \n",
      "=================================================================\n",
      "Total params: 52,650\n",
      "Trainable params: 52,650\n",
      "Non-trainable params: 0\n",
      "_________________________________________________________________\n"
     ]
    }
   ],
   "source": [
    "model_3.summary()"
   ]
  },
  {
   "cell_type": "code",
   "execution_count": 59,
   "metadata": {},
   "outputs": [],
   "source": [
    "model_3.compile(loss='categorical_crossentropy', optimizer='sgd', metrics=['acc'])"
   ]
  },
  {
   "cell_type": "code",
   "execution_count": 60,
   "metadata": {},
   "outputs": [
    {
     "name": "stdout",
     "output_type": "stream",
     "text": [
      "Epoch 1/100\n",
      "938/938 [==============================] - 2s 2ms/step - loss: 1.0703 - acc: 0.7012 - val_loss: 0.4470 - val_acc: 0.8775\n",
      "Epoch 2/100\n",
      "938/938 [==============================] - 1s 1ms/step - loss: 0.3965 - acc: 0.8882 - val_loss: 0.3356 - val_acc: 0.9027\n",
      "Epoch 3/100\n",
      "938/938 [==============================] - 2s 2ms/step - loss: 0.3262 - acc: 0.9056 - val_loss: 0.2925 - val_acc: 0.9157\n",
      "Epoch 4/100\n",
      "938/938 [==============================] - 1s 1ms/step - loss: 0.2915 - acc: 0.9165 - val_loss: 0.2649 - val_acc: 0.9227\n",
      "Epoch 5/100\n",
      "938/938 [==============================] - 2s 2ms/step - loss: 0.2668 - acc: 0.9234 - val_loss: 0.2490 - val_acc: 0.9267\n",
      "Epoch 6/100\n",
      "938/938 [==============================] - 1s 1ms/step - loss: 0.2473 - acc: 0.9289 - val_loss: 0.2300 - val_acc: 0.9308\n",
      "Epoch 7/100\n",
      "938/938 [==============================] - 2s 2ms/step - loss: 0.2310 - acc: 0.9335 - val_loss: 0.2143 - val_acc: 0.9345\n",
      "Epoch 8/100\n",
      "938/938 [==============================] - 1s 1ms/step - loss: 0.2167 - acc: 0.9382 - val_loss: 0.2058 - val_acc: 0.9382\n",
      "Epoch 9/100\n",
      "938/938 [==============================] - 2s 2ms/step - loss: 0.2041 - acc: 0.9410 - val_loss: 0.1932 - val_acc: 0.9425\n",
      "Epoch 10/100\n",
      "938/938 [==============================] - 1s 1ms/step - loss: 0.1932 - acc: 0.9439 - val_loss: 0.1858 - val_acc: 0.9450\n",
      "Epoch 11/100\n",
      "938/938 [==============================] - 2s 2ms/step - loss: 0.1832 - acc: 0.9470 - val_loss: 0.1785 - val_acc: 0.9459\n",
      "Epoch 12/100\n",
      "938/938 [==============================] - 1s 1ms/step - loss: 0.1746 - acc: 0.9493 - val_loss: 0.1701 - val_acc: 0.9495\n",
      "Epoch 13/100\n",
      "938/938 [==============================] - 2s 2ms/step - loss: 0.1668 - acc: 0.9519 - val_loss: 0.1649 - val_acc: 0.9484\n",
      "Epoch 14/100\n",
      "938/938 [==============================] - 1s 1ms/step - loss: 0.1595 - acc: 0.9541 - val_loss: 0.1584 - val_acc: 0.9512\n",
      "Epoch 15/100\n",
      "938/938 [==============================] - 2s 2ms/step - loss: 0.1529 - acc: 0.9557 - val_loss: 0.1552 - val_acc: 0.9528\n",
      "Epoch 16/100\n",
      "938/938 [==============================] - 1s 1ms/step - loss: 0.1470 - acc: 0.9572 - val_loss: 0.1485 - val_acc: 0.9529\n",
      "Epoch 17/100\n",
      "938/938 [==============================] - 2s 2ms/step - loss: 0.1416 - acc: 0.9595 - val_loss: 0.1436 - val_acc: 0.9551\n",
      "Epoch 18/100\n",
      "938/938 [==============================] - 1s 1ms/step - loss: 0.1363 - acc: 0.9606 - val_loss: 0.1410 - val_acc: 0.9554\n",
      "Epoch 19/100\n",
      "938/938 [==============================] - 2s 2ms/step - loss: 0.1316 - acc: 0.9617 - val_loss: 0.1374 - val_acc: 0.9568\n",
      "Epoch 20/100\n",
      "938/938 [==============================] - 1s 1ms/step - loss: 0.1270 - acc: 0.9632 - val_loss: 0.1329 - val_acc: 0.9584\n",
      "Epoch 21/100\n",
      "938/938 [==============================] - 1s 1ms/step - loss: 0.1227 - acc: 0.9647 - val_loss: 0.1286 - val_acc: 0.9596\n",
      "Epoch 22/100\n",
      "938/938 [==============================] - 1s 2ms/step - loss: 0.1184 - acc: 0.9661 - val_loss: 0.1272 - val_acc: 0.9613\n",
      "Epoch 23/100\n",
      "938/938 [==============================] - 1s 1ms/step - loss: 0.1149 - acc: 0.9673 - val_loss: 0.1225 - val_acc: 0.9627\n",
      "Epoch 24/100\n",
      "938/938 [==============================] - 2s 2ms/step - loss: 0.1114 - acc: 0.9680 - val_loss: 0.1209 - val_acc: 0.9632\n",
      "Epoch 25/100\n",
      "938/938 [==============================] - 1s 1ms/step - loss: 0.1080 - acc: 0.9692 - val_loss: 0.1200 - val_acc: 0.9633\n",
      "Epoch 26/100\n",
      "938/938 [==============================] - 2s 2ms/step - loss: 0.1048 - acc: 0.9703 - val_loss: 0.1165 - val_acc: 0.9640\n",
      "Epoch 27/100\n",
      "938/938 [==============================] - 1s 1ms/step - loss: 0.1017 - acc: 0.9708 - val_loss: 0.1138 - val_acc: 0.9653\n",
      "Epoch 28/100\n",
      "938/938 [==============================] - 2s 2ms/step - loss: 0.0986 - acc: 0.9722 - val_loss: 0.1130 - val_acc: 0.9654\n",
      "Epoch 29/100\n",
      "938/938 [==============================] - 1s 1ms/step - loss: 0.0958 - acc: 0.9722 - val_loss: 0.1095 - val_acc: 0.9665\n",
      "Epoch 30/100\n",
      "938/938 [==============================] - 2s 2ms/step - loss: 0.0936 - acc: 0.9731 - val_loss: 0.1083 - val_acc: 0.9664\n",
      "Epoch 31/100\n",
      "938/938 [==============================] - 1s 1ms/step - loss: 0.0910 - acc: 0.9740 - val_loss: 0.1066 - val_acc: 0.9665\n",
      "Epoch 32/100\n",
      "938/938 [==============================] - 2s 2ms/step - loss: 0.0884 - acc: 0.9747 - val_loss: 0.1077 - val_acc: 0.9660\n",
      "Epoch 33/100\n",
      "938/938 [==============================] - 1s 1ms/step - loss: 0.0864 - acc: 0.9753 - val_loss: 0.1024 - val_acc: 0.9680\n",
      "Epoch 34/100\n",
      "938/938 [==============================] - 2s 2ms/step - loss: 0.0842 - acc: 0.9760 - val_loss: 0.1017 - val_acc: 0.9687\n",
      "Epoch 35/100\n",
      "938/938 [==============================] - 1s 1ms/step - loss: 0.0820 - acc: 0.9765 - val_loss: 0.1008 - val_acc: 0.9679\n",
      "Epoch 36/100\n",
      "938/938 [==============================] - 2s 2ms/step - loss: 0.0800 - acc: 0.9768 - val_loss: 0.0995 - val_acc: 0.9692\n",
      "Epoch 37/100\n",
      "938/938 [==============================] - 1s 1ms/step - loss: 0.0781 - acc: 0.9776 - val_loss: 0.0973 - val_acc: 0.9708\n",
      "Epoch 38/100\n",
      "938/938 [==============================] - 2s 2ms/step - loss: 0.0762 - acc: 0.9780 - val_loss: 0.0980 - val_acc: 0.9696\n",
      "Epoch 39/100\n",
      "938/938 [==============================] - 1s 1ms/step - loss: 0.0743 - acc: 0.9791 - val_loss: 0.0956 - val_acc: 0.9698\n",
      "Epoch 40/100\n",
      "938/938 [==============================] - 2s 2ms/step - loss: 0.0725 - acc: 0.9797 - val_loss: 0.0951 - val_acc: 0.9704\n",
      "Epoch 41/100\n",
      "938/938 [==============================] - 1s 1ms/step - loss: 0.0710 - acc: 0.9798 - val_loss: 0.0947 - val_acc: 0.9699\n",
      "Epoch 42/100\n",
      "938/938 [==============================] - 2s 2ms/step - loss: 0.0692 - acc: 0.9804 - val_loss: 0.0921 - val_acc: 0.9720\n",
      "Epoch 43/100\n",
      "938/938 [==============================] - 1s 1ms/step - loss: 0.0678 - acc: 0.9805 - val_loss: 0.0957 - val_acc: 0.9704\n",
      "Epoch 44/100\n",
      "938/938 [==============================] - 2s 2ms/step - loss: 0.0663 - acc: 0.9809 - val_loss: 0.0911 - val_acc: 0.9716\n",
      "Epoch 45/100\n",
      "938/938 [==============================] - 1s 1ms/step - loss: 0.0646 - acc: 0.9818 - val_loss: 0.0918 - val_acc: 0.9717\n",
      "Epoch 46/100\n",
      "938/938 [==============================] - 1s 1ms/step - loss: 0.0633 - acc: 0.9824 - val_loss: 0.0929 - val_acc: 0.9717\n",
      "Epoch 47/100\n",
      "938/938 [==============================] - 2s 2ms/step - loss: 0.0620 - acc: 0.9827 - val_loss: 0.0910 - val_acc: 0.9721\n",
      "Epoch 48/100\n",
      "938/938 [==============================] - 1s 1ms/step - loss: 0.0606 - acc: 0.9833 - val_loss: 0.0892 - val_acc: 0.9725\n",
      "Epoch 49/100\n",
      "938/938 [==============================] - 2s 2ms/step - loss: 0.0595 - acc: 0.9835 - val_loss: 0.0878 - val_acc: 0.9725\n",
      "Epoch 50/100\n",
      "938/938 [==============================] - 1s 1ms/step - loss: 0.0583 - acc: 0.9837 - val_loss: 0.0876 - val_acc: 0.9730\n",
      "Epoch 51/100\n",
      "938/938 [==============================] - 2s 2ms/step - loss: 0.0573 - acc: 0.9839 - val_loss: 0.0869 - val_acc: 0.9731\n",
      "Epoch 52/100\n",
      "938/938 [==============================] - 1s 1ms/step - loss: 0.0561 - acc: 0.9846 - val_loss: 0.0854 - val_acc: 0.9733\n",
      "Epoch 53/100\n",
      "938/938 [==============================] - 2s 2ms/step - loss: 0.0549 - acc: 0.9848 - val_loss: 0.0860 - val_acc: 0.9740\n",
      "Epoch 54/100\n",
      "938/938 [==============================] - 1s 1ms/step - loss: 0.0537 - acc: 0.9855 - val_loss: 0.0870 - val_acc: 0.9734\n",
      "Epoch 55/100\n",
      "938/938 [==============================] - 2s 2ms/step - loss: 0.0525 - acc: 0.9858 - val_loss: 0.0868 - val_acc: 0.9738\n",
      "Epoch 56/100\n",
      "938/938 [==============================] - 1s 1ms/step - loss: 0.0516 - acc: 0.9859 - val_loss: 0.0860 - val_acc: 0.9733\n",
      "Epoch 57/100\n",
      "938/938 [==============================] - 2s 2ms/step - loss: 0.0506 - acc: 0.9859 - val_loss: 0.0833 - val_acc: 0.9743\n",
      "Epoch 58/100\n",
      "938/938 [==============================] - 1s 1ms/step - loss: 0.0495 - acc: 0.9865 - val_loss: 0.0858 - val_acc: 0.9745\n",
      "Epoch 59/100\n",
      "938/938 [==============================] - 1s 1ms/step - loss: 0.0486 - acc: 0.9866 - val_loss: 0.0842 - val_acc: 0.9743\n",
      "Epoch 60/100\n",
      "938/938 [==============================] - 2s 2ms/step - loss: 0.0477 - acc: 0.9871 - val_loss: 0.0848 - val_acc: 0.9740\n",
      "Epoch 61/100\n",
      "938/938 [==============================] - 1s 1ms/step - loss: 0.0469 - acc: 0.9871 - val_loss: 0.0836 - val_acc: 0.9751\n",
      "Epoch 62/100\n"
     ]
    },
    {
     "name": "stdout",
     "output_type": "stream",
     "text": [
      "938/938 [==============================] - 2s 2ms/step - loss: 0.0461 - acc: 0.9873 - val_loss: 0.0836 - val_acc: 0.9746\n",
      "Epoch 63/100\n",
      "938/938 [==============================] - 1s 1ms/step - loss: 0.0449 - acc: 0.9880 - val_loss: 0.0821 - val_acc: 0.9747\n",
      "Epoch 64/100\n",
      "938/938 [==============================] - 2s 2ms/step - loss: 0.0443 - acc: 0.9880 - val_loss: 0.0839 - val_acc: 0.9753\n",
      "Epoch 65/100\n",
      "938/938 [==============================] - 1s 1ms/step - loss: 0.0433 - acc: 0.9887 - val_loss: 0.0840 - val_acc: 0.9744\n",
      "Epoch 66/100\n",
      "938/938 [==============================] - 2s 2ms/step - loss: 0.0425 - acc: 0.9885 - val_loss: 0.0822 - val_acc: 0.9749\n",
      "Epoch 67/100\n",
      "938/938 [==============================] - 1s 1ms/step - loss: 0.0419 - acc: 0.9889 - val_loss: 0.0849 - val_acc: 0.9752\n",
      "Epoch 68/100\n",
      "938/938 [==============================] - 2s 2ms/step - loss: 0.0411 - acc: 0.9893 - val_loss: 0.0833 - val_acc: 0.9751\n",
      "Epoch 69/100\n",
      "938/938 [==============================] - 1s 1ms/step - loss: 0.0404 - acc: 0.9891 - val_loss: 0.0824 - val_acc: 0.9756\n",
      "Epoch 70/100\n",
      "938/938 [==============================] - 2s 2ms/step - loss: 0.0393 - acc: 0.9895 - val_loss: 0.0833 - val_acc: 0.9747\n",
      "Epoch 71/100\n",
      "938/938 [==============================] - 1s 1ms/step - loss: 0.0388 - acc: 0.9897 - val_loss: 0.0813 - val_acc: 0.9764\n",
      "Epoch 72/100\n",
      "938/938 [==============================] - 2s 2ms/step - loss: 0.0380 - acc: 0.9899 - val_loss: 0.0830 - val_acc: 0.9759\n",
      "Epoch 73/100\n",
      "938/938 [==============================] - 1s 2ms/step - loss: 0.0375 - acc: 0.9904 - val_loss: 0.0820 - val_acc: 0.9762\n",
      "Epoch 74/100\n",
      "938/938 [==============================] - 1s 1ms/step - loss: 0.0369 - acc: 0.9902 - val_loss: 0.0849 - val_acc: 0.9740\n",
      "Epoch 75/100\n",
      "938/938 [==============================] - 1s 1ms/step - loss: 0.0360 - acc: 0.9909 - val_loss: 0.0829 - val_acc: 0.9754\n",
      "Epoch 76/100\n",
      "938/938 [==============================] - 1s 1ms/step - loss: 0.0355 - acc: 0.9911 - val_loss: 0.0826 - val_acc: 0.9751\n",
      "Epoch 77/100\n",
      "938/938 [==============================] - 1s 1ms/step - loss: 0.0347 - acc: 0.9913 - val_loss: 0.0819 - val_acc: 0.9758\n",
      "Epoch 78/100\n",
      "938/938 [==============================] - 1s 1ms/step - loss: 0.0341 - acc: 0.9916 - val_loss: 0.0848 - val_acc: 0.9745\n",
      "Epoch 79/100\n",
      "938/938 [==============================] - 1s 1ms/step - loss: 0.0335 - acc: 0.9915 - val_loss: 0.0833 - val_acc: 0.9743\n",
      "Epoch 80/100\n",
      "938/938 [==============================] - 1s 1ms/step - loss: 0.0330 - acc: 0.9916 - val_loss: 0.0824 - val_acc: 0.9758\n",
      "Epoch 81/100\n",
      "938/938 [==============================] - 1s 1ms/step - loss: 0.0324 - acc: 0.9920 - val_loss: 0.0823 - val_acc: 0.9763\n",
      "Epoch 82/100\n",
      "938/938 [==============================] - 1s 1ms/step - loss: 0.0318 - acc: 0.9925 - val_loss: 0.0829 - val_acc: 0.9755\n",
      "Epoch 83/100\n",
      "938/938 [==============================] - 1s 2ms/step - loss: 0.0313 - acc: 0.9923 - val_loss: 0.0826 - val_acc: 0.9758\n",
      "Epoch 84/100\n",
      "938/938 [==============================] - 1s 2ms/step - loss: 0.0306 - acc: 0.9924 - val_loss: 0.0835 - val_acc: 0.9746\n",
      "Epoch 85/100\n",
      "938/938 [==============================] - 2s 2ms/step - loss: 0.0301 - acc: 0.9926 - val_loss: 0.0828 - val_acc: 0.9760\n",
      "Epoch 86/100\n",
      "938/938 [==============================] - 2s 2ms/step - loss: 0.0296 - acc: 0.9927 - val_loss: 0.0833 - val_acc: 0.9755\n",
      "Epoch 87/100\n",
      "938/938 [==============================] - 2s 2ms/step - loss: 0.0291 - acc: 0.9933 - val_loss: 0.0835 - val_acc: 0.9751\n",
      "Epoch 88/100\n",
      "938/938 [==============================] - 2s 2ms/step - loss: 0.0284 - acc: 0.9933 - val_loss: 0.0818 - val_acc: 0.9750\n",
      "Epoch 89/100\n",
      "938/938 [==============================] - 2s 2ms/step - loss: 0.0280 - acc: 0.9933 - val_loss: 0.0832 - val_acc: 0.9760\n",
      "Epoch 90/100\n",
      "938/938 [==============================] - 1s 2ms/step - loss: 0.0276 - acc: 0.9934 - val_loss: 0.0828 - val_acc: 0.9753\n",
      "Epoch 91/100\n",
      "938/938 [==============================] - 2s 2ms/step - loss: 0.0271 - acc: 0.9937 - val_loss: 0.0842 - val_acc: 0.9751\n",
      "Epoch 92/100\n",
      "938/938 [==============================] - 1s 2ms/step - loss: 0.0266 - acc: 0.9938 - val_loss: 0.0842 - val_acc: 0.9754\n",
      "Epoch 93/100\n",
      "938/938 [==============================] - 2s 2ms/step - loss: 0.0262 - acc: 0.9940 - val_loss: 0.0830 - val_acc: 0.9755\n",
      "Epoch 94/100\n",
      "938/938 [==============================] - 2s 2ms/step - loss: 0.0256 - acc: 0.9941 - val_loss: 0.0846 - val_acc: 0.9756\n",
      "Epoch 95/100\n",
      "938/938 [==============================] - 2s 2ms/step - loss: 0.0253 - acc: 0.9943 - val_loss: 0.0832 - val_acc: 0.9759\n",
      "Epoch 96/100\n",
      "938/938 [==============================] - 2s 2ms/step - loss: 0.0247 - acc: 0.9944 - val_loss: 0.0834 - val_acc: 0.9751\n",
      "Epoch 97/100\n",
      "938/938 [==============================] - 2s 2ms/step - loss: 0.0243 - acc: 0.9947 - val_loss: 0.0830 - val_acc: 0.9759\n",
      "Epoch 98/100\n",
      "938/938 [==============================] - 2s 2ms/step - loss: 0.0238 - acc: 0.9947 - val_loss: 0.0845 - val_acc: 0.9751\n",
      "Epoch 99/100\n",
      "938/938 [==============================] - 2s 2ms/step - loss: 0.0235 - acc: 0.9947 - val_loss: 0.0841 - val_acc: 0.9758\n",
      "Epoch 100/100\n",
      "938/938 [==============================] - 2s 2ms/step - loss: 0.0230 - acc: 0.9951 - val_loss: 0.0861 - val_acc: 0.9751\n"
     ]
    }
   ],
   "source": [
    "results_3 = model_3.fit(X_train, y_train, epochs=100, batch_size=64, validation_data=(X_test, y_test))"
   ]
  },
  {
   "cell_type": "code",
   "execution_count": 61,
   "metadata": {},
   "outputs": [
    {
     "data": {
      "image/png": "[encoded data removed]",
      "text/plain": [
       "<Figure size 1080x360 with 1 Axes>"
      ]
     },
     "metadata": {
      "needs_background": "light"
     },
     "output_type": "display_data"
    },
    {
     "data": {
      "image/png": "[encoded data removed]",
      "text/plain": [
       "<Figure size 1080x360 with 1 Axes>"
      ]
     },
     "metadata": {
      "needs_background": "light"
     },
     "output_type": "display_data"
    }
   ],
   "source": [
    "visualize_training_results(results_3)"
   ]
  },
  {
   "cell_type": "markdown",
   "metadata": {},
   "source": [
    "Performance improved even further! ReLU is one of the most commonly used activation functions around right now -- it's especially useful in computer vision problems like image classification, as we've just seen. \n",
    "\n",
    "## Summary\n",
    "\n",
    "In this lab, you once again practiced and reviewed the process of building a neural network. This time, you built a more complex network with additional layers which improved the performance of your model on the MNIST dataset! "
   ]
  }
 ],
 "metadata": {
  "coursera": {
   "course_slug": "neural-networks-deep-learning",
   "graded_item_id": "c4HO0",
   "launcher_item_id": "lSYZM"
  },
  "kernelspec": {
   "display_name": "Python 3",
   "language": "python",
   "name": "python3"
  },
  "language_info": {
   "codemirror_mode": {
    "name": "ipython",
    "version": 3
   },
   "file_extension": ".py",
   "mimetype": "text/x-python",
   "name": "python",
   "nbconvert_exporter": "python",
   "pygments_lexer": "ipython3",
   "version": "3.8.5"
  }
 },
 "nbformat": 4,
 "nbformat_minor": 1
}
